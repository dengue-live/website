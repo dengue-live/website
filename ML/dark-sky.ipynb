{
 "cells": [
  {
   "cell_type": "code",
   "execution_count": 34,
   "metadata": {},
   "outputs": [
    {
     "data": {
      "text/html": [
       "<div>\n",
       "<style scoped>\n",
       "    .dataframe tbody tr th:only-of-type {\n",
       "        vertical-align: middle;\n",
       "    }\n",
       "\n",
       "    .dataframe tbody tr th {\n",
       "        vertical-align: top;\n",
       "    }\n",
       "\n",
       "    .dataframe thead th {\n",
       "        text-align: right;\n",
       "    }\n",
       "</style>\n",
       "<table border=\"1\" class=\"dataframe\">\n",
       "  <thead>\n",
       "    <tr style=\"text-align: right;\">\n",
       "      <th></th>\n",
       "      <th></th>\n",
       "      <th>No. of Cases</th>\n",
       "    </tr>\n",
       "    <tr>\n",
       "      <th>Closest Location</th>\n",
       "      <th>Date</th>\n",
       "      <th></th>\n",
       "    </tr>\n",
       "  </thead>\n",
       "  <tbody>\n",
       "    <tr>\n",
       "      <th rowspan=\"5\" valign=\"top\">Admiralty</th>\n",
       "      <th>02/07/2019</th>\n",
       "      <td>2.0</td>\n",
       "    </tr>\n",
       "    <tr>\n",
       "      <th>03/04/2019</th>\n",
       "      <td>67.0</td>\n",
       "    </tr>\n",
       "    <tr>\n",
       "      <th>03/05/2019</th>\n",
       "      <td>124.0</td>\n",
       "    </tr>\n",
       "    <tr>\n",
       "      <th>03/06/2019</th>\n",
       "      <td>343.0</td>\n",
       "    </tr>\n",
       "    <tr>\n",
       "      <th>04/01/2019</th>\n",
       "      <td>2.0</td>\n",
       "    </tr>\n",
       "  </tbody>\n",
       "</table>\n",
       "</div>"
      ],
      "text/plain": [
       "                             No. of Cases\n",
       "Closest Location Date                    \n",
       "Admiralty        02/07/2019           2.0\n",
       "                 03/04/2019          67.0\n",
       "                 03/05/2019         124.0\n",
       "                 03/06/2019         343.0\n",
       "                 04/01/2019           2.0"
      ]
     },
     "execution_count": 34,
     "metadata": {},
     "output_type": "execute_result"
    }
   ],
   "source": [
    "import pandas as pd\n",
    "import numpy as np\n",
    "\n",
    "df = pd.read_csv(\"2019.csv\", encoding='iso-8859-1')\n",
    "df_new = df.copy()\n",
    "\n",
    "df_new.drop(columns=df_new.iloc[:,6:].columns, inplace=True)\n",
    "df_new.drop(columns=[\"Location\", \"Latitude\", \"Longtitude\"], inplace=True)\n",
    "\n",
    "df_new[\"No. of Cases\"] = pd.to_numeric(df_new[\"No. of Cases\"], errors='coerce')\n",
    "\n",
    "df_new = df_new.groupby([df_new[\"Closest Location\"], df_new.Date]).sum()\n",
    "station_df = pd.read_csv(\"station-coordinates.csv\")\n",
    "df_new.head()"
   ]
  },
  {
   "cell_type": "code",
   "execution_count": 35,
   "metadata": {},
   "outputs": [
    {
     "name": "stdout",
     "output_type": "stream",
     "text": [
      "{'data': [{'time': 1560787200, 'summary': 'Light rain in the morning.', 'icon': 'rain', 'sunriseTime': 1560812460, 'sunsetTime': 1560856380, 'moonPhase': 0.54, 'precipIntensity': 0.0159, 'precipIntensityMax': 0.091, 'precipIntensityMaxTime': 1560815940, 'precipProbability': 0.8, 'precipType': 'rain', 'temperatureHigh': 84.36, 'temperatureHighTime': 1560827100, 'temperatureLow': 78.62, 'temperatureLowTime': 1560880860, 'apparentTemperatureHigh': 97.35, 'apparentTemperatureHighTime': 1560827220, 'apparentTemperatureLow': 83.36, 'apparentTemperatureLowTime': 1560880920, 'dewPoint': 78.4, 'humidity': 0.91, 'pressure': 1010.3, 'windSpeed': 4.92, 'windGust': 10.35, 'windGustTime': 1560828240, 'windBearing': 149, 'cloudCover': 0.95, 'uvIndex': 5, 'uvIndexTime': 1560834420, 'visibility': 9.327, 'ozone': 260.6, 'temperatureMin': 76.48, 'temperatureMinTime': 1560814980, 'temperatureMax': 84.36, 'temperatureMaxTime': 1560827100, 'apparentTemperatureMin': 78.23, 'apparentTemperatureMinTime': 1560814800, 'apparentTemperatureMax': 97.35, 'apparentTemperatureMaxTime': 1560827220}]}\n"
     ]
    }
   ],
   "source": [
    "import requests\n",
    "import json\n",
    "from datetime import date\n",
    "from datetime import datetime, timedelta\n",
    "\n",
    "date_list = []\n",
    "\n",
    "row = df_new.index[0]\n",
    "\n",
    "datetime_object = datetime.strptime(row[1], \"%d/%m/%Y\")\n",
    "\n",
    "dt = datetime.combine(datetime_object, datetime.min.time())\n",
    "dt = dt - timedelta(weeks=2)\n",
    "timestamp = datetime.timestamp(dt)\n",
    "\n",
    "station = station_df[station_df[\"Location\"] == row[0]]\n",
    "\n",
    "lat = float(station[\"Latitude\"])\n",
    "long = float(station[\"Longtitude\"])\n",
    "time = int(timestamp)\n",
    "\n",
    "url = \"https://api.darksky.net/forecast/477bf5a88e50f201a476d20e506afa12/{},{},{}\".format(lat, long, time)\n",
    "r = requests.get(url)\n",
    "\n",
    "data = json.loads(r.text)\n",
    "print(data['daily'])\n",
    "\n",
    "data = json.loads(r.text)\n",
    "data = data['daily']['data'][0]"
   ]
  },
  {
   "cell_type": "code",
   "execution_count": 37,
   "metadata": {},
   "outputs": [
    {
     "data": {
      "text/plain": [
       "0.91"
      ]
     },
     "execution_count": 37,
     "metadata": {},
     "output_type": "execute_result"
    }
   ],
   "source": [
    "data['precipIntensity']\n",
    "data['precipIntensityMax']\n",
    "data['precipIntensityMaxTime']\n",
    "data['temperatureHigh']\n",
    "data['temperatureHighTime']\n",
    "data['temperatureLow']\n",
    "data['temperatureLowTime']\n",
    "data['humidity']"
   ]
  },
  {
   "cell_type": "code",
   "execution_count": 38,
   "metadata": {},
   "outputs": [],
   "source": [
    "precipIntensity = []\n",
    "precipIntensityMax = []\n",
    "precipIntensityMaxTime = []\n",
    "temperatureHigh = []\n",
    "temperatureHighTime = []\n",
    "temperatureLow = []\n",
    "temperatureLowTime = []\n",
    "humidity = []\n",
    "\n",
    "precipIntensity.append(data['precipIntensity'])\n",
    "precipIntensityMax.append(data['precipIntensityMax'])\n",
    "precipIntensityMaxTime.append(data['precipIntensityMaxTime'])\n",
    "temperatureHigh.append(data['temperatureHigh'])\n",
    "temperatureHighTime.append(data['temperatureHighTime'])\n",
    "temperatureLow.append(data['temperatureLow'])\n",
    "temperatureLowTime.append(data['temperatureLowTime'])\n",
    "humidity.append(data['humidity'])"
   ]
  },
  {
   "cell_type": "code",
   "execution_count": 39,
   "metadata": {},
   "outputs": [],
   "source": [
    "from datetime import date\n",
    "from datetime import datetime, timedelta\n",
    "import requests\n",
    "import json\n",
    "\n",
    "date_list = []\n",
    "precipIntensity = []\n",
    "precipIntensityMax = []\n",
    "precipIntensityMaxTime = []\n",
    "temperatureHigh = []\n",
    "temperatureHighTime = []\n",
    "temperatureLow = []\n",
    "temperatureLowTime = []\n",
    "humidity = []\n",
    "\n",
    "for row in df_new.iterrows():\n",
    "    \n",
    "    if([row[0][0], row[0][1]] not in date_list):\n",
    "        datetime_object = datetime.strptime(row[0][1], \"%d/%m/%Y\")\n",
    "\n",
    "        dt = datetime.combine(datetime_object, datetime.min.time())\n",
    "        dt = dt - timedelta(weeks=2)\n",
    "        timestamp = datetime.timestamp(dt)\n",
    "\n",
    "        station = station_df[station_df[\"Location\"] == row[0][0]]\n",
    "\n",
    "        lat = float(station[\"Latitude\"])\n",
    "        long = float(station[\"Longtitude\"])\n",
    "        time = int(timestamp)\n",
    "\n",
    "        url = \"https://api.darksky.net/forecast/477bf5a88e50f201a476d20e506afa12/{},{},{}\".format(lat, long, time)\n",
    "        r = requests.get(url)\n",
    "\n",
    "        data = json.loads(r.text)\n",
    "        data = data['daily']['data'][0]\n",
    "\n",
    "        precipIntensity.append(data['precipIntensity'])\n",
    "        precipIntensityMax.append(data['precipIntensityMax'])\n",
    "        precipIntensityMaxTime.append(data['precipIntensityMaxTime'])\n",
    "        temperatureHigh.append(data['temperatureHigh'])\n",
    "        temperatureHighTime.append(data['temperatureHighTime'])\n",
    "        temperatureLow.append(data['temperatureLow'])\n",
    "        temperatureLowTime.append(data['temperatureLowTime'])\n",
    "        humidity.append(data['humidity'])\n",
    "\n",
    "        date_list.append([row[0][0], row[0][1]])\n",
    "    "
   ]
  },
  {
   "cell_type": "code",
   "execution_count": 194,
   "metadata": {},
   "outputs": [],
   "source": [
    "precip_list = []\n",
    "for date in date_list:\n",
    "    for index in df_new.index:\n",
    "        if date == list(index):\n",
    "            count = date_list.index(date)\n",
    "            precip_list.append(precipIntensity[count])"
   ]
  },
  {
   "cell_type": "code",
   "execution_count": 40,
   "metadata": {},
   "outputs": [],
   "source": [
    "df_new['precipIntensity'] = precipIntensity\n",
    "df_new['precipIntensityMax'] = precipIntensityMax\n",
    "df_new['precipIntensityMaxTime'] = precipIntensityMaxTime\n",
    "df_new['temperatureHigh'] = temperatureHigh\n",
    "df_new['temperatureHighTime'] = temperatureHighTime\n",
    "df_new['temperatureLow'] = temperatureLow\n",
    "df_new['temperatureLowTime'] = temperatureLowTime\n",
    "df_new['humidity'] = humidity"
   ]
  },
  {
   "cell_type": "code",
   "execution_count": 41,
   "metadata": {},
   "outputs": [],
   "source": [
    "df_new.to_csv('2019_done.csv', index=True)"
   ]
  }
 ],
 "metadata": {
  "kernelspec": {
   "display_name": "Python 3",
   "language": "python",
   "name": "python3"
  },
  "language_info": {
   "codemirror_mode": {
    "name": "ipython",
    "version": 3
   },
   "file_extension": ".py",
   "mimetype": "text/x-python",
   "name": "python",
   "nbconvert_exporter": "python",
   "pygments_lexer": "ipython3",
   "version": "3.7.3"
  }
 },
 "nbformat": 4,
 "nbformat_minor": 2
}
